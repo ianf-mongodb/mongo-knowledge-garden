{
 "cells": [
  {
   "cell_type": "code",
   "execution_count": 2,
   "id": "e9b8ef4c",
   "metadata": {},
   "outputs": [],
   "source": [
    "import pymongocrypt\n",
    "import pymongo\n",
    "from pymongo import MongoClient\n",
    "from pymongo.encryption_options import AutoEncryptionOpts\n",
    "from pymongo.encryption import ClientEncryption\n",
    "import base64\n",
    "from bson.codec_options import CodecOptions\n",
    "from bson.binary import STANDARD, UUID\n",
    "from pprint import pprint\n",
    "import os\n",
    "from pprint import pprint\n",
    "from secrets import token_bytes\n",
    "\n",
    "#https://docs.mongodb.com/drivers/security/client-side-field-level-encryption-guide/#introduction\n",
    "#https://github.com/mongodb-university/csfle-guides/tree/master/python"
   ]
  },
  {
   "cell_type": "code",
   "execution_count": 34,
   "id": "2444cf48",
   "metadata": {},
   "outputs": [],
   "source": [
    "path = \"master-key.txt\"\n",
    "file_bytes = os.urandom(96)\n",
    "with open(path, \"wb\") as f:\n",
    "  f.write(file_bytes)\n",
    "\n",
    "path = \"./master-key.txt\"\n",
    "with open(path, \"rb\") as f:\n",
    "  local_master_key = f.read()\n",
    "\n",
    "kms_providers = {\n",
    "  \"local\": {\n",
    "    \"key\": local_master_key # local_master_key variable from the previous step\n",
    "  },\n",
    "}\n",
    "\n",
    "connection_string = \"mongodb://localhost:27017\"\n",
    "key_vault_namespace = \"encryption.__keyVault\"\n",
    "client = MongoClient(connection_string)\n",
    "client_encryption = ClientEncryption(\n",
    "    kms_providers, # pass in the kms_providers variable from the previous step\n",
    "    key_vault_namespace,\n",
    "    client,\n",
    "    CodecOptions(uuid_representation=STANDARD),\n",
    ")\n",
    "\n",
    "data_key_id = client_encryption.create_data_key(\"local\", key_alt_names=[\"example\"])"
   ]
  },
  {
   "cell_type": "code",
   "execution_count": 35,
   "id": "35e30a43",
   "metadata": {},
   "outputs": [
    {
     "name": "stdout",
     "output_type": "stream",
     "text": [
      "{'_id': UUID('dafd3d10-0849-4663-b9ae-38b11cc689bd'),\n",
      " 'creationDate': datetime.datetime(2022, 3, 19, 2, 7, 34, 197000),\n",
      " 'keyAltNames': ['example'],\n",
      " 'keyMaterial': b'\\xda\\x97\\xab\\x081\\xa7\\x08\\xbcs\\xf6\\xbdL\\xb1r\\xb6O'\n",
      "                b'\\x10\\x94\\x91*\\xd2\\x8f\\xea\\xf2\\xd0%@C\\t;\\x8f\\xda\\xb8L\\xfd\\x0c'\n",
      "                b'3\\x98\"\\xc3L\\xe9+J\\x9e\\xe81Q\\x8e\\xa2\\xbcwm\\x8daN'\n",
      "                b'\\x84\\xa9\\xff\\xb2\\xf4\\xa5\\x9b\\xa9\\xf2\\x11=\\xae\\x18\\xba\\xb0\\x1f'\n",
      "                b'\\x9aRx\"\\x9bg@\\xd3\\xbb3k\\x84\\x7fm\\xf9^\\x94*\\xb9\\xe8'\n",
      "                b'\\xd6\\x8e\\x0c\\x12\\xe5\\xc2\\x94\\x117\\xd5G\\ts\\xd9\\x94\"'\n",
      "                b'\\xcd\\xecL\\xcc\\xef\\xedW\\xf2F\\xc9\\xf7)\\xb2;\\x97\\x9b\\xedX\\xf0k'\n",
      "                b'\\xe8\\xc4\\x8b:|K/\\x11h\\x1f\\xc3\\x89G\\x13\\x89\\xe1\\xa5\\xbd!:'\n",
      "                b'\\xdcD(U\\xab\\xf3K\\xd9\\xd8\\x8eMU',\n",
      " 'masterKey': {'provider': 'local'},\n",
      " 'status': 0,\n",
      " 'updateDate': datetime.datetime(2022, 3, 19, 2, 7, 34, 197000)}\n"
     ]
    }
   ],
   "source": [
    "connection_string = \"mongodb://localhost:27017\"\n",
    "key_vault_db = \"encryption\"\n",
    "key_vault_coll = \"__keyVault\"\n",
    "client = MongoClient(connection_string)\n",
    "key_vault = client[key_vault_db][key_vault_coll]\n",
    "key = key_vault.find_one({\"_id\": data_key_id})\n",
    "pprint(key) #pprint(key['_id'])"
   ]
  },
  {
   "cell_type": "code",
   "execution_count": 68,
   "id": "e1085042",
   "metadata": {},
   "outputs": [],
   "source": [
    "#works for 1 field\n",
    "schema = {\n",
    "    \"bsonType\": \"object\",\n",
    "    \"properties\": {\n",
    "        \"ssn\": {\n",
    "            \"encrypt\": {\n",
    "                \"bsonType\": \"string\",\n",
    "                \"algorithm\": \"AEAD_AES_256_CBC_HMAC_SHA_512-Random\",\n",
    "                \"keyId\": [key['_id']],  # Reference the key\n",
    "            }\n",
    "        },\n",
    "    },\n",
    "}"
   ]
  },
  {
   "cell_type": "code",
   "execution_count": 83,
   "id": "c28d6961",
   "metadata": {},
   "outputs": [],
   "source": [
    "#dosent work.\n",
    "schema = {\n",
    "  \"bsonType\": \"object\",\n",
    "  \"encryptMetadata\": {\n",
    "    \"keyId\": [\n",
    "      {\n",
    "        \"$binary\": {\n",
    "          \"base64\": 'dafd3d10-0849-4663-b9ae-38b11cc689bd',\n",
    "          \"subType\": \"04\"\n",
    "        }\n",
    "      }\n",
    "    ]\n",
    "  },\n",
    "  \"properties\": {\n",
    "    \"insurance\": {\n",
    "      \"bsonType\": \"object\",\n",
    "      \"properties\": {\n",
    "        \"policyNumber\": {\n",
    "          \"encrypt\": {\n",
    "            \"bsonType\": \"int\",\n",
    "            \"algorithm\": \"AEAD_AES_256_CBC_HMAC_SHA_512-Deterministic\"\n",
    "          }\n",
    "        }\n",
    "      }\n",
    "    },\n",
    "    \"medicalRecords\": {\n",
    "      \"encrypt\": {\n",
    "        \"bsonType\": \"array\",\n",
    "        \"algorithm\": \"AEAD_AES_256_CBC_HMAC_SHA_512-Random\"\n",
    "      }\n",
    "    },\n",
    "    \"bloodType\": {\n",
    "      \"encrypt\": {\n",
    "        \"bsonType\": \"string\",\n",
    "        \"algorithm\": \"AEAD_AES_256_CBC_HMAC_SHA_512-Random\"\n",
    "      }\n",
    "    },\n",
    "    \"ssn\": {\n",
    "      \"encrypt\": {\n",
    "        \"bsonType\": \"int\",\n",
    "        \"algorithm\": \"AEAD_AES_256_CBC_HMAC_SHA_512-Deterministic\"\n",
    "      }\n",
    "    }\n",
    "  }\n",
    "}"
   ]
  },
  {
   "cell_type": "code",
   "execution_count": 86,
   "id": "6e97d15f",
   "metadata": {},
   "outputs": [],
   "source": [
    "#works\n",
    "schema = {\n",
    "  \"bsonType\": \"object\",\n",
    "  \"properties\": {\n",
    "    \"insurance\": {\n",
    "      \"bsonType\": \"object\",\n",
    "      \"properties\": {\n",
    "        \"policyNumber\": {\n",
    "          \"encrypt\": {\n",
    "            \"bsonType\": \"int\",\n",
    "            \"algorithm\": \"AEAD_AES_256_CBC_HMAC_SHA_512-Deterministic\",\n",
    "            \"keyId\": [key['_id']]\n",
    "          }\n",
    "        }\n",
    "      }\n",
    "    },\n",
    "    \"medicalRecords\": {\n",
    "      \"encrypt\": {\n",
    "        \"bsonType\": \"array\",\n",
    "        \"algorithm\": \"AEAD_AES_256_CBC_HMAC_SHA_512-Random\",\n",
    "        \"keyId\": [key['_id']],\n",
    "      }\n",
    "    },\n",
    "    \"bloodType\": {\n",
    "      \"encrypt\": {\n",
    "        \"bsonType\": \"string\",\n",
    "        \"algorithm\": \"AEAD_AES_256_CBC_HMAC_SHA_512-Random\",\n",
    "        \"keyId\": [key['_id']],\n",
    "      }\n",
    "    },\n",
    "    \"ssn\": {\n",
    "      \"encrypt\": {\n",
    "        \"bsonType\": \"int\",\n",
    "        \"algorithm\": \"AEAD_AES_256_CBC_HMAC_SHA_512-Deterministic\",\n",
    "        \"keyId\": [key['_id']]\n",
    "      }\n",
    "    }\n",
    "  }\n",
    "}"
   ]
  },
  {
   "cell_type": "code",
   "execution_count": 91,
   "id": "79e5e48a",
   "metadata": {},
   "outputs": [],
   "source": [
    "def insert_patient(collection, name, ssn, blood_type, medical_records, policy_number, provider):\n",
    "  insurance = {\n",
    "    'policyNumber': policy_number,\n",
    "    'provider': provider\n",
    "  }\n",
    "  doc = {\n",
    "      'name': name,\n",
    "      'ssn': ssn,\n",
    "      'bloodType': blood_type,\n",
    "      'medicalRecords': medical_records,\n",
    "      'insurance': insurance\n",
    "  }\n",
    "  collection.insert_one(doc)\n",
    "\n",
    "insert_patient(client.encryption.test,'Ian',1231231234,'A',['120/40'],123,'')"
   ]
  },
  {
   "cell_type": "code",
   "execution_count": 85,
   "id": "04a546e4",
   "metadata": {},
   "outputs": [
    {
     "name": "stdout",
     "output_type": "stream",
     "text": [
      "{'_id': ObjectId('62353b003bc051d9f65e9359'), 'ssn': '123-12-1234'}\n",
      "{'_id': ObjectId('62353d5a3bc051d9f65e937d'), 'ssn': '123-12-1234'}\n",
      "{'_id': ObjectId('62353eb13bc051d9f65e938a'), 'ssn': '123-12-1234'}\n",
      "{'_id': ObjectId('623864fa3bc051d9f65e9397'), 'ssn': 123121234}\n"
     ]
    }
   ],
   "source": [
    "key_vault_namespace = \"encryption.__keyVault\"\n",
    "\n",
    "key_bytes = token_bytes(96)\n",
    "\n",
    "# Configure a single, local KMS provider, with the saved key:\n",
    "#kms_providers = {\"local\": {\"key\": key_bytes}}\n",
    "\n",
    "patient_schema = {\n",
    "  \"medicalRecords.patients\": schema\n",
    "}\n",
    "\n",
    "extra_options = {\n",
    "   'mongocryptd_spawn_path': 'mongocryptd'\n",
    "}\n",
    "\n",
    "extra_options['mongocryptd_bypass_spawn'] = True\n",
    "\n",
    "fle_opts = AutoEncryptionOpts(\n",
    "   kms_providers,\n",
    "   key_vault_namespace,\n",
    "   schema_map={\"encryption.test\": schema},\n",
    ")\n",
    "\n",
    "client = MongoClient(connection_string, auto_encryption_opts=fle_opts)\n",
    "\n",
    "client.encryption.test.insert_one(\n",
    "        {\n",
    "            \n",
    "            \"ssn\": 123121234,\n",
    "        })\n",
    "\n",
    "c = client.encryption.test.find()\n",
    "for x in c:\n",
    "    print(x)"
   ]
  },
  {
   "cell_type": "code",
   "execution_count": 76,
   "id": "3ea493b3",
   "metadata": {},
   "outputs": [
    {
     "name": "stdout",
     "output_type": "stream",
     "text": [
      "{'_id': ObjectId('62353b003bc051d9f65e9359'), 'ssn': '123-12-1234'}\n",
      "{'_id': ObjectId('62353d5a3bc051d9f65e937d'), 'ssn': '123-12-1234'}\n"
     ]
    }
   ],
   "source": [
    "#insert to the collection without the schema.\n",
    "\n",
    "fle_opts_no_schema = AutoEncryptionOpts(\n",
    "    kms_providers,\n",
    "    key_vault_namespace\n",
    ")\n",
    "\n",
    "client_no_schema = MongoClient(connection_string, auto_encryption_opts=fle_opts_no_schema)\n",
    "\n",
    "client_no_schema.encryption.test.insert_one(\n",
    "        {\n",
    "            \"ssn\": \"123-12-1234\",\n",
    "        })\n",
    "\n",
    "c2 = client_no_schema.encryption.test.find()\n",
    "for x in c2:\n",
    "    print(x)"
   ]
  },
  {
   "cell_type": "code",
   "execution_count": 82,
   "id": "82b0f2e8",
   "metadata": {},
   "outputs": [
    {
     "name": "stdout",
     "output_type": "stream",
     "text": [
      "{'_id': ObjectId('62353b003bc051d9f65e9359'), 'ssn': Binary(b'\\x02\\xda\\xfd=\\x10\\x08IFc\\xb9\\xae8\\xb1\\x1c\\xc6\\x89\\xbd\\x02]K\\x9caZ\\xedf\\x85\\xf0$E\\x04\\xaf\\xf8\\xb8\\xcb\\x92Y@\\x9d\\x1d\\xa4\\xe0o\\xd2)\\xd6o\\xa1\\xfa}h\\xaa\\xa6^\\x9f\\xb3\\xef[l\\x93I\\xd5\\x8e\\xfd\\xefq\\x00\\xb8\\xe4\\xd9K*\\x85)\\xa9\\xf6\\xcb\\x81\\x8d\\x11\\x96M\\xab\\x03)\\xbe[Ib\\x06\"\\xdc\\xda08Tdz\\x7f', 6)}\n",
      "{'_id': ObjectId('62353d5a3bc051d9f65e937d'), 'ssn': Binary(b\"\\x02\\xda\\xfd=\\x10\\x08IFc\\xb9\\xae8\\xb1\\x1c\\xc6\\x89\\xbd\\x02\\x04u\\x9b\\x97\\x82\\r\\xb0\\xc2\\xd7g+W\\x89\\xa8\\xb7\\x1d\\x92\\xac\\xf0\\xf2\\xbeg|cND\\xfeG\\xd1JW\\xc0;\\xdc\\xf1\\x8b\\xcb{7U\\x02\\xaa\\xe2\\xef\\x81\\xbd\\x06\\x1c\\xf02#\\xbd [\\x16\\x8b\\xc1\\xca'L\\xecb\\x07\\x02X:\\x86\\x9c\\x81P\\x15\\xe7\\xd8\\x80\\xe3\\x9f\\xfc\\xa6p\\x0f\", 6)}\n",
      "{'_id': ObjectId('62353eb13bc051d9f65e938a'), 'ssn': '123-12-1234'}\n"
     ]
    }
   ],
   "source": [
    "#query the encryption test database as a normal client.\n",
    "uri = \"localhost:27017\"\n",
    "client = pymongo.MongoClient(uri)\n",
    "db = client.encryption\n",
    "c3 = db.test.find()\n",
    "for x in c3:\n",
    "    print(x)"
   ]
  }
 ],
 "metadata": {
  "kernelspec": {
   "display_name": "Python 3",
   "language": "python",
   "name": "python3"
  },
  "language_info": {
   "codemirror_mode": {
    "name": "ipython",
    "version": 3
   },
   "file_extension": ".py",
   "mimetype": "text/x-python",
   "name": "python",
   "nbconvert_exporter": "python",
   "pygments_lexer": "ipython3",
   "version": "3.8.8"
  }
 },
 "nbformat": 4,
 "nbformat_minor": 5
}
